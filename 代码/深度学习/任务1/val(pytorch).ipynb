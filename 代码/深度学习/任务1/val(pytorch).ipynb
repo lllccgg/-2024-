{
 "cells": [
  {
   "cell_type": "code",
   "execution_count": 2,
   "id": "2b7cbf37-9013-48a1-a3bf-e52cf16c7502",
   "metadata": {},
   "outputs": [],
   "source": [
    "import torch\n",
    "import torch.nn as nn\n",
    "from torchvision import transforms\n",
    "from PIL import Image\n",
    "import matplotlib.pyplot as plt"
   ]
  },
  {
   "cell_type": "code",
   "execution_count": 3,
   "id": "69a4e98a-89e9-4858-8fe8-26f7bb44fe20",
   "metadata": {},
   "outputs": [],
   "source": [
    "device = torch.device(\"cuda\" if torch.cuda.is_available() else \"cpu\")"
   ]
  },
  {
   "cell_type": "code",
   "execution_count": 4,
   "id": "146738e8-81ea-4d23-85a6-cb1c5866c304",
   "metadata": {},
   "outputs": [],
   "source": [
    "# 定义LeNet-5网络结构\n",
    "class LeNet5(nn.Module):\n",
    "    def __init__(self):\n",
    "        super(LeNet5, self).__init__()\n",
    "        \n",
    "        # 第一层卷积层：输入1通道，输出6通道，卷积核5x5，padding=same\n",
    "        self.conv1 = nn.Conv2d(1, 6, kernel_size=5, padding=2)\n",
    "        # 第一层池化层：2x2平均池化\n",
    "        self.pool1 = nn.AvgPool2d(kernel_size=2)\n",
    "        # 第二层卷积层：输入6通道，输出16通道，卷积核5x5\n",
    "        self.conv2 = nn.Conv2d(6, 16, kernel_size=5)\n",
    "        # 第二层池化层：2x2平均池化\n",
    "        self.pool2 = nn.AvgPool2d(kernel_size=2)\n",
    "        # 第三层卷积层：输入16通道，输出120通道，卷积核5x5\n",
    "        self.conv3 = nn.Conv2d(16, 120, kernel_size=5)\n",
    "        # 展平层\n",
    "        self.flatten = nn.Flatten()\n",
    "        # 全连接层：输入120，输出84\n",
    "        self.fc1 = nn.Linear(120, 84)\n",
    "        # 全连接层：输入84，输出10（对应10个类别）\n",
    "        self.fc2 = nn.Linear(84, 10)\n",
    "\n",
    "    def forward(self, x):\n",
    "        # 第一层卷积 + 激活 + 池化\n",
    "        x = torch.sigmoid(self.conv1(x))\n",
    "        x = self.pool1(x)\n",
    "        # 第二层卷积 + 激活 + 池化\n",
    "        x = torch.sigmoid(self.conv2(x))\n",
    "        x = self.pool2(x)\n",
    "        # 第三层卷积 + 激活\n",
    "        x = torch.sigmoid(self.conv3(x))\n",
    "        # 展平\n",
    "        x = self.flatten(x)  # 使用 flatten 层\n",
    "        # 全连接层 + 激活\n",
    "        x = torch.sigmoid(self.fc1(x))\n",
    "        # 输出层\n",
    "        x = self.fc2(x)\n",
    "        return x"
   ]
  },
  {
   "cell_type": "code",
   "execution_count": 5,
   "id": "b5ef2e96-ab1b-46f0-a496-4d7945e3d0f2",
   "metadata": {},
   "outputs": [
    {
     "data": {
      "text/plain": [
       "LeNet5(\n",
       "  (conv1): Conv2d(1, 6, kernel_size=(5, 5), stride=(1, 1), padding=(2, 2))\n",
       "  (pool1): AvgPool2d(kernel_size=2, stride=2, padding=0)\n",
       "  (conv2): Conv2d(6, 16, kernel_size=(5, 5), stride=(1, 1))\n",
       "  (pool2): AvgPool2d(kernel_size=2, stride=2, padding=0)\n",
       "  (conv3): Conv2d(16, 120, kernel_size=(5, 5), stride=(1, 1))\n",
       "  (flatten): Flatten(start_dim=1, end_dim=-1)\n",
       "  (fc1): Linear(in_features=120, out_features=84, bias=True)\n",
       "  (fc2): Linear(in_features=84, out_features=10, bias=True)\n",
       ")"
      ]
     },
     "execution_count": 5,
     "metadata": {},
     "output_type": "execute_result"
    }
   ],
   "source": [
    "model = LeNet5().to(device)\n",
    "model.load_state_dict(torch.load('lenet5.pth'))\n",
    "model.eval()  # 设置为评估模式"
   ]
  },
  {
   "cell_type": "code",
   "execution_count": 6,
   "id": "21e4bdc1-df97-45bf-9e5b-7374fef9382f",
   "metadata": {},
   "outputs": [
    {
     "data": {
      "text/plain": [
       "<matplotlib.image.AxesImage at 0x179d6b08130>"
      ]
     },
     "execution_count": 6,
     "metadata": {},
     "output_type": "execute_result"
    },
    {
     "data": {
      "image/png": "[encoded data removed]",
      "text/plain": [
       "<Figure size 640x480 with 1 Axes>"
      ]
     },
     "metadata": {},
     "output_type": "display_data"
    }
   ],
   "source": [
    "img = Image.open('3.png')  # 使用PIL打开图片\n",
    "plt.imshow(img)"
   ]
  },
  {
   "cell_type": "code",
   "execution_count": 7,
   "id": "3379adee-d49f-4867-8e15-4124fee045c2",
   "metadata": {},
   "outputs": [],
   "source": [
    "transform = transforms.Compose([\n",
    "    transforms.Grayscale(num_output_channels=1),  # 确保图像是灰度图\n",
    "    transforms.Resize((28, 28)),                  # 调整图像大小为28x28\n",
    "    transforms.ToTensor(),                        # 转换为Tensor\n",
    "])"
   ]
  },
  {
   "cell_type": "code",
   "execution_count": 8,
   "id": "5a63bd56-a287-48d2-b261-9056e05297c9",
   "metadata": {},
   "outputs": [
    {
     "name": "stdout",
     "output_type": "stream",
     "text": [
      "tensor([[-5.7616, -1.5463, -1.4826,  7.0309, -9.7116, -0.3441, -9.3479, -2.8926,\n",
      "          0.7145, -2.0003]], device='cuda:0')\n",
      "Predicted class: 3\n"
     ]
    }
   ],
   "source": [
    "img_tensor = transform(img).unsqueeze(0).to(device)  # 添加batch维度并移动到GPU\n",
    "\n",
    "# 进行预测\n",
    "with torch.no_grad():  # 不计算梯度\n",
    "    output = model(img_tensor)\n",
    "    max_values, predicted_class = torch.max(output, 1)  # 获取预测的类\n",
    "\n",
    "# 打印预测结果\n",
    "print(output)\n",
    "print(f\"Predicted class: {predicted_class.item()}\")"
   ]
  },
  {
   "cell_type": "code",
   "execution_count": null,
   "id": "0923f365-3ce8-4a6d-9d0b-e96cc65ffa8b",
   "metadata": {},
   "outputs": [],
   "source": []
  }
 ],
 "metadata": {
  "kernelspec": {
   "display_name": "yolov8",
   "language": "python",
   "name": "yolov8"
  },
  "language_info": {
   "codemirror_mode": {
    "name": "ipython",
    "version": 3
   },
   "file_extension": ".py",
   "mimetype": "text/x-python",
   "name": "python",
   "nbconvert_exporter": "python",
   "pygments_lexer": "ipython3",
   "version": "3.9.23"
  }
 },
 "nbformat": 4,
 "nbformat_minor": 5
}
