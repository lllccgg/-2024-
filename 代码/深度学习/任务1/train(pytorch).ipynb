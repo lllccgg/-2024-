{
 "cells": [
  {
   "cell_type": "code",
   "execution_count": 8,
   "id": "b442a9a5-c70c-45e5-a865-a04b529b82ff",
   "metadata": {},
   "outputs": [],
   "source": [
    "import torch\n",
    "import torch.nn as nn\n",
    "import torch.optim as optim\n",
    "from torchvision import datasets, transforms\n",
    "from torch.utils.data import DataLoader\n",
    "import matplotlib.pyplot as plt"
   ]
  },
  {
   "cell_type": "code",
   "execution_count": 9,
   "id": "f7700e17-c3b5-4d64-9daf-e0f00401838d",
   "metadata": {},
   "outputs": [],
   "source": [
    "transform = transforms.Compose([\n",
    "    transforms.Resize((28, 28)),                  # 调整图像大小为28x28\n",
    "    transforms.ToTensor(),                        # 转换为Tensor\n",
    "])"
   ]
  },
  {
   "cell_type": "code",
   "execution_count": 10,
   "id": "c886e36d-64e9-4f78-a915-7b662006be16",
   "metadata": {},
   "outputs": [
    {
     "name": "stderr",
     "output_type": "stream",
     "text": [
      "100.0%\n",
      "100.0%\n",
      "100.0%\n",
      "100.0%\n"
     ]
    }
   ],
   "source": [
    "# 加载训练集数据\n",
    "train_dataset = datasets.MNIST(\n",
    "    root='./data',  # 数据存储的路径\n",
    "    train=True,  # 表示加载训练数据集\n",
    "    download=True,  # 如果数据集没有下载，会自动下载\n",
    "    transform=transform  # 对数据应用transform操作，例如转换为Tensor\n",
    ")\n",
    "\n",
    "# 加载测试集数据，MNIST数据集的测试部分，train=False表示加载测试集\n",
    "test_dataset = datasets.MNIST(\n",
    "    root='./data',  # 数据存储的路径\n",
    "    train=False,  # 表示加载测试数据集\n",
    "    download=True,  # 如果数据集没有下载，会自动下载\n",
    "    transform=transform  # 对数据应用transform操作，例如转换为Tensor\n",
    ")"
   ]
  },
  {
   "cell_type": "code",
   "execution_count": null,
   "id": "eade2426-7766-4a3d-8f2e-9dcf604acda7",
   "metadata": {},
   "outputs": [
    {
     "name": "stdout",
     "output_type": "stream",
     "text": [
      "7\n"
     ]
    },
    {
     "data": {
      "image/png": "[encoded data removed]",
      "text/plain": [
       "<Figure size 640x480 with 1 Axes>"
      ]
     },
     "metadata": {},
     "output_type": "display_data"
    }
   ],
   "source": [
    "img, label = test_dataset[0]\n",
    "img = img.permute(1, 2, 0)  #  Tensor，（C, H, W）转换成 (H, W, C) 格式\n",
    "plt.imshow(img, cmap='gray') \n",
    "print(label)"
   ]
  },
  {
   "cell_type": "code",
   "execution_count": 12,
   "id": "bbdffd1e-737f-4a08-b14d-8f656a231553",
   "metadata": {},
   "outputs": [],
   "source": [
    "# 使用DataLoader来加载训练数据\n",
    "\n",
    "train_loader = DataLoader(\n",
    "    train_dataset,  # 传入训练数据集\n",
    "    batch_size=32,  # 批次数量\n",
    "    shuffle=True,  # 打乱数据\n",
    "    num_workers=8  # 加载数据进程数\n",
    ")\n",
    "\n",
    "test_loader = DataLoader(\n",
    "    test_dataset,  # 传入测试数据集\n",
    "    batch_size=32,  # 每批次数量\n",
    "    shuffle=False,  # 不打乱数据\n",
    "    num_workers=8  # 加载数据进程数\n",
    ")"
   ]
  },
  {
   "cell_type": "code",
   "execution_count": 13,
   "id": "65fc1515-7987-4f47-af0c-a8274cc07d40",
   "metadata": {},
   "outputs": [],
   "source": [
    "# 检查是否有可用的GPU，如果有就使用GPU，否则使用CPU\n",
    "device = torch.device(\"cuda\" if torch.cuda.is_available() else \"cpu\")"
   ]
  },
  {
   "cell_type": "code",
   "execution_count": 14,
   "id": "0acbb34e-ab42-4df8-81f3-0eb3bf5f97a1",
   "metadata": {},
   "outputs": [],
   "source": [
    "# 定义LeNet-5网络结构\n",
    "class LeNet5(nn.Module):\n",
    "    def __init__(self):\n",
    "        super(LeNet5, self).__init__()\n",
    "        \n",
    "        # 第一层卷积层：输入1通道，输出6通道，卷积核5x5，padding=same\n",
    "        self.conv1 = nn.Conv2d(1, 6, kernel_size=5, padding=2)\n",
    "        # 第一层池化层：2x2平均池化\n",
    "        self.pool1 = nn.AvgPool2d(kernel_size=2)\n",
    "        # 第二层卷积层：输入6通道，输出16通道，卷积核5x5\n",
    "        self.conv2 = nn.Conv2d(6, 16, kernel_size=5)\n",
    "        # 第二层池化层：2x2平均池化\n",
    "        self.pool2 = nn.AvgPool2d(kernel_size=2)\n",
    "        # 第三层卷积层：输入16通道，输出120通道，卷积核5x5\n",
    "        self.conv3 = nn.Conv2d(16, 120, kernel_size=5)\n",
    "        # 展平层\n",
    "        self.flatten = nn.Flatten()\n",
    "        # 全连接层：输入120，输出84\n",
    "        self.fc1 = nn.Linear(120, 84)\n",
    "        # 全连接层：输入84，输出10（对应10个类别）\n",
    "        self.fc2 = nn.Linear(84, 10)\n",
    "\n",
    "    def forward(self, x):\n",
    "        # 第一层卷积 + 激活 + 池化\n",
    "        x = torch.sigmoid(self.conv1(x))\n",
    "        x = self.pool1(x)\n",
    "        # 第二层卷积 + 激活 + 池化\n",
    "        x = torch.sigmoid(self.conv2(x))\n",
    "        x = self.pool2(x)\n",
    "        # 第三层卷积 + 激活\n",
    "        x = torch.sigmoid(self.conv3(x))\n",
    "        # 展平\n",
    "        x = self.flatten(x)  # 使用 flatten 层\n",
    "        # 全连接层 + 激活\n",
    "        x = torch.sigmoid(self.fc1(x))\n",
    "        # 输出层\n",
    "        x = self.fc2(x)\n",
    "        return x"
   ]
  },
  {
   "cell_type": "code",
   "execution_count": 15,
   "id": "97f4d3b1-0f36-43a9-9c98-cb7c217a67e6",
   "metadata": {},
   "outputs": [],
   "source": [
    "model = LeNet5().to(device)# 初始化模型，并将模型移至 GPU（如果可用）\n",
    "criterion = nn.CrossEntropyLoss()  # 分类任务使用交叉熵损失\n",
    "optimizer = optim.Adam(model.parameters(), lr=0.001) #设置优化器"
   ]
  },
  {
   "cell_type": "code",
   "execution_count": 16,
   "id": "37ad4cf3-7480-43df-a5a3-306c75adc663",
   "metadata": {},
   "outputs": [],
   "source": [
    "def compute_accuracy(loader, device):\n",
    "    correct = 0  # 初始化正确预测的数\n",
    "    total = 0    # 初始化总的样本数\n",
    "    with torch.no_grad():  # 不需计算梯度，这样可以节省内存和计算资源\n",
    "        for inputs, labels in loader:# 遍历数据加载器中的每一个 batch\n",
    "            inputs, labels = inputs.to(device), labels.to(device)  # 将输入数据和标签转移到指定的设备\n",
    "            outputs = model(inputs)  # 用当前的模型进行前向传播，得到预测结果\n",
    "            max_values, predicted = torch.max(outputs, 1)  # 对每个输出的预测结果，找到最大值对应的索引，返回预测的类标签\n",
    "            total += labels.size(0)  # 更新总样本数， labels.size(0) 是当前 batch 的样本数\n",
    "            correct += (predicted == labels).sum().item()  # 统计预测正确的样本\n",
    "    accuracy = 100 * correct / total  # 计算准确率\n",
    "    return accuracy  # 返回计算得到的准确率"
   ]
  },
  {
   "cell_type": "code",
   "execution_count": 17,
   "id": "6d31eb7f-6ecb-43dd-b309-2b94a702342e",
   "metadata": {},
   "outputs": [
    {
     "name": "stdout",
     "output_type": "stream",
     "text": [
      "Epoch [1/5], Loss: 0.8528\n",
      "Train Accuracy: 90.85%, Test Accuracy: 91.41%\n",
      "Epoch [2/5], Loss: 0.2099\n",
      "Train Accuracy: 95.05%, Test Accuracy: 95.06%\n",
      "Epoch [3/5], Loss: 0.1357\n",
      "Train Accuracy: 96.75%, Test Accuracy: 96.88%\n",
      "Epoch [4/5], Loss: 0.1004\n",
      "Train Accuracy: 97.47%, Test Accuracy: 97.32%\n",
      "Epoch [5/5], Loss: 0.0803\n",
      "Train Accuracy: 98.01%, Test Accuracy: 97.83%\n"
     ]
    }
   ],
   "source": [
    "num_epochs = 5  # 设置训练的总轮数\n",
    "\n",
    "for epoch in range(num_epochs):\n",
    "    model.train()  # 设置为训练模式\n",
    "    total_loss = 0  # 记录当前 epoch 的总损失\n",
    "    \n",
    "    for inputs, labels in train_loader:\n",
    "        inputs, labels = inputs.to(device), labels.to(device)\n",
    "        optimizer.zero_grad()  # 清除之前计算的梯度\n",
    "        outputs = model(inputs)  # 进行前向传播\n",
    "        loss = criterion(outputs, labels)  # 计算损失\n",
    "        loss.backward()  # 反向传播计算梯度\n",
    "        optimizer.step()  # 更新参数\n",
    "        total_loss += loss.item()  # 累加损失\n",
    "    \n",
    "    # 打印损失\n",
    "    print(f\"Epoch [{epoch+1}/{num_epochs}], Loss: {total_loss / len(train_loader):.4f}\")\n",
    "    # 打印训练集和测试集的准确率\n",
    "    train_accuracy = compute_accuracy(train_loader, device)\n",
    "    test_accuracy = compute_accuracy(test_loader, device)\n",
    "    print(f\"Train Accuracy: {train_accuracy:.2f}%, Test Accuracy: {test_accuracy:.2f}%\")"
   ]
  },
  {
   "cell_type": "code",
   "execution_count": 18,
   "id": "60cc79d2-53bd-4db1-9009-87f49d9ddcf9",
   "metadata": {},
   "outputs": [
    {
     "name": "stdout",
     "output_type": "stream",
     "text": [
      "模型已保存为 lenet5.pth\n"
     ]
    }
   ],
   "source": [
    "torch.save(model.state_dict(), 'lenet5.pth') #保存模型\n",
    "print(\"模型已保存为 lenet5.pth\")"
   ]
  },
  {
   "cell_type": "code",
   "execution_count": null,
   "id": "423a367d-a7e0-4176-97a1-c16548e520e1",
   "metadata": {},
   "outputs": [],
   "source": []
  }
 ],
 "metadata": {
  "kernelspec": {
   "display_name": "yolov8",
   "language": "python",
   "name": "yolov8"
  },
  "language_info": {
   "codemirror_mode": {
    "name": "ipython",
    "version": 3
   },
   "file_extension": ".py",
   "mimetype": "text/x-python",
   "name": "python",
   "nbconvert_exporter": "python",
   "pygments_lexer": "ipython3",
   "version": "3.9.23"
  }
 },
 "nbformat": 4,
 "nbformat_minor": 5
}
